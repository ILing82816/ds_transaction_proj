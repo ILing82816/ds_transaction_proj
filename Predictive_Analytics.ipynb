{
 "cells": [
  {
   "cell_type": "code",
   "execution_count": 42,
   "metadata": {},
   "outputs": [],
   "source": [
    "import pandas as pd\n",
    "import matplotlib.pyplot as plt\n",
    "import seaborn as sns\n",
    "import os\n",
    "# path\n",
    "path_prefix = 'D:/USA 2020 summer/visual_internship/ANZ'"
   ]
  },
  {
   "cell_type": "markdown",
   "metadata": {},
   "source": [
    "# 1.1 Explore correlations"
   ]
  },
  {
   "cell_type": "code",
   "execution_count": 43,
   "metadata": {},
   "outputs": [
    {
     "data": {
      "text/html": [
       "<div>\n",
       "<style scoped>\n",
       "    .dataframe tbody tr th:only-of-type {\n",
       "        vertical-align: middle;\n",
       "    }\n",
       "\n",
       "    .dataframe tbody tr th {\n",
       "        vertical-align: top;\n",
       "    }\n",
       "\n",
       "    .dataframe thead th {\n",
       "        text-align: right;\n",
       "    }\n",
       "</style>\n",
       "<table border=\"1\" class=\"dataframe\">\n",
       "  <thead>\n",
       "    <tr style=\"text-align: right;\">\n",
       "      <th></th>\n",
       "      <th>status</th>\n",
       "      <th>card_present_flag</th>\n",
       "      <th>bpay_biller_code</th>\n",
       "      <th>account</th>\n",
       "      <th>currency</th>\n",
       "      <th>long_lat</th>\n",
       "      <th>txn_description</th>\n",
       "      <th>merchant_id</th>\n",
       "      <th>merchant_code</th>\n",
       "      <th>first_name</th>\n",
       "      <th>...</th>\n",
       "      <th>monthly</th>\n",
       "      <th>weekday</th>\n",
       "      <th>hour</th>\n",
       "      <th>account_customer</th>\n",
       "      <th>clong</th>\n",
       "      <th>clat</th>\n",
       "      <th>mlong</th>\n",
       "      <th>mlat</th>\n",
       "      <th>In_Australia</th>\n",
       "      <th>dist</th>\n",
       "    </tr>\n",
       "  </thead>\n",
       "  <tbody>\n",
       "    <tr>\n",
       "      <th>0</th>\n",
       "      <td>authorized</td>\n",
       "      <td>1.0</td>\n",
       "      <td>NaN</td>\n",
       "      <td>ACC-1598451071</td>\n",
       "      <td>AUD</td>\n",
       "      <td>153.41 -27.95</td>\n",
       "      <td>POS</td>\n",
       "      <td>81c48296-73be-44a7-befa-d053f48ce7cd</td>\n",
       "      <td>NaN</td>\n",
       "      <td>Diana</td>\n",
       "      <td>...</td>\n",
       "      <td>8</td>\n",
       "      <td>2</td>\n",
       "      <td>1</td>\n",
       "      <td>ACC-1598451071_CUS-2487424745</td>\n",
       "      <td>153.41</td>\n",
       "      <td>-27.95</td>\n",
       "      <td>153.38</td>\n",
       "      <td>-27.99</td>\n",
       "      <td>True</td>\n",
       "      <td>5.335071</td>\n",
       "    </tr>\n",
       "    <tr>\n",
       "      <th>1</th>\n",
       "      <td>authorized</td>\n",
       "      <td>0.0</td>\n",
       "      <td>NaN</td>\n",
       "      <td>ACC-1598451071</td>\n",
       "      <td>AUD</td>\n",
       "      <td>153.41 -27.95</td>\n",
       "      <td>SALES-POS</td>\n",
       "      <td>830a451c-316e-4a6a-bf25-e37caedca49e</td>\n",
       "      <td>NaN</td>\n",
       "      <td>Diana</td>\n",
       "      <td>...</td>\n",
       "      <td>8</td>\n",
       "      <td>2</td>\n",
       "      <td>1</td>\n",
       "      <td>ACC-1598451071_CUS-2487424745</td>\n",
       "      <td>153.41</td>\n",
       "      <td>-27.95</td>\n",
       "      <td>151.21</td>\n",
       "      <td>-33.87</td>\n",
       "      <td>True</td>\n",
       "      <td>690.864475</td>\n",
       "    </tr>\n",
       "    <tr>\n",
       "      <th>2</th>\n",
       "      <td>authorized</td>\n",
       "      <td>1.0</td>\n",
       "      <td>NaN</td>\n",
       "      <td>ACC-1222300524</td>\n",
       "      <td>AUD</td>\n",
       "      <td>151.23 -33.94</td>\n",
       "      <td>POS</td>\n",
       "      <td>835c231d-8cdf-4e96-859d-e9d571760cf0</td>\n",
       "      <td>NaN</td>\n",
       "      <td>Michael</td>\n",
       "      <td>...</td>\n",
       "      <td>8</td>\n",
       "      <td>2</td>\n",
       "      <td>1</td>\n",
       "      <td>ACC-1222300524_CUS-2142601169</td>\n",
       "      <td>151.23</td>\n",
       "      <td>-33.94</td>\n",
       "      <td>151.21</td>\n",
       "      <td>-33.87</td>\n",
       "      <td>True</td>\n",
       "      <td>7.999496</td>\n",
       "    </tr>\n",
       "    <tr>\n",
       "      <th>3</th>\n",
       "      <td>authorized</td>\n",
       "      <td>1.0</td>\n",
       "      <td>NaN</td>\n",
       "      <td>ACC-1037050564</td>\n",
       "      <td>AUD</td>\n",
       "      <td>153.10 -27.66</td>\n",
       "      <td>SALES-POS</td>\n",
       "      <td>48514682-c78a-4a88-b0da-2d6302e64673</td>\n",
       "      <td>NaN</td>\n",
       "      <td>Rhonda</td>\n",
       "      <td>...</td>\n",
       "      <td>8</td>\n",
       "      <td>2</td>\n",
       "      <td>1</td>\n",
       "      <td>ACC-1037050564_CUS-1614226872</td>\n",
       "      <td>153.10</td>\n",
       "      <td>-27.66</td>\n",
       "      <td>153.05</td>\n",
       "      <td>-26.68</td>\n",
       "      <td>True</td>\n",
       "      <td>109.083222</td>\n",
       "    </tr>\n",
       "    <tr>\n",
       "      <th>4</th>\n",
       "      <td>authorized</td>\n",
       "      <td>1.0</td>\n",
       "      <td>NaN</td>\n",
       "      <td>ACC-1598451071</td>\n",
       "      <td>AUD</td>\n",
       "      <td>153.41 -27.95</td>\n",
       "      <td>SALES-POS</td>\n",
       "      <td>b4e02c10-0852-4273-b8fd-7b3395e32eb0</td>\n",
       "      <td>NaN</td>\n",
       "      <td>Diana</td>\n",
       "      <td>...</td>\n",
       "      <td>8</td>\n",
       "      <td>2</td>\n",
       "      <td>1</td>\n",
       "      <td>ACC-1598451071_CUS-2487424745</td>\n",
       "      <td>153.41</td>\n",
       "      <td>-27.95</td>\n",
       "      <td>153.44</td>\n",
       "      <td>-28.06</td>\n",
       "      <td>True</td>\n",
       "      <td>12.581042</td>\n",
       "    </tr>\n",
       "  </tbody>\n",
       "</table>\n",
       "<p>5 rows × 33 columns</p>\n",
       "</div>"
      ],
      "text/plain": [
       "       status  card_present_flag bpay_biller_code         account currency  \\\n",
       "0  authorized                1.0              NaN  ACC-1598451071      AUD   \n",
       "1  authorized                0.0              NaN  ACC-1598451071      AUD   \n",
       "2  authorized                1.0              NaN  ACC-1222300524      AUD   \n",
       "3  authorized                1.0              NaN  ACC-1037050564      AUD   \n",
       "4  authorized                1.0              NaN  ACC-1598451071      AUD   \n",
       "\n",
       "        long_lat txn_description                           merchant_id  \\\n",
       "0  153.41 -27.95             POS  81c48296-73be-44a7-befa-d053f48ce7cd   \n",
       "1  153.41 -27.95       SALES-POS  830a451c-316e-4a6a-bf25-e37caedca49e   \n",
       "2  151.23 -33.94             POS  835c231d-8cdf-4e96-859d-e9d571760cf0   \n",
       "3  153.10 -27.66       SALES-POS  48514682-c78a-4a88-b0da-2d6302e64673   \n",
       "4  153.41 -27.95       SALES-POS  b4e02c10-0852-4273-b8fd-7b3395e32eb0   \n",
       "\n",
       "   merchant_code first_name  ...  monthly weekday hour  \\\n",
       "0            NaN      Diana  ...        8       2    1   \n",
       "1            NaN      Diana  ...        8       2    1   \n",
       "2            NaN    Michael  ...        8       2    1   \n",
       "3            NaN     Rhonda  ...        8       2    1   \n",
       "4            NaN      Diana  ...        8       2    1   \n",
       "\n",
       "                account_customer   clong   clat   mlong   mlat In_Australia  \\\n",
       "0  ACC-1598451071_CUS-2487424745  153.41 -27.95  153.38 -27.99         True   \n",
       "1  ACC-1598451071_CUS-2487424745  153.41 -27.95  151.21 -33.87         True   \n",
       "2  ACC-1222300524_CUS-2142601169  151.23 -33.94  151.21 -33.87         True   \n",
       "3  ACC-1037050564_CUS-1614226872  153.10 -27.66  153.05 -26.68         True   \n",
       "4  ACC-1598451071_CUS-2487424745  153.41 -27.95  153.44 -28.06         True   \n",
       "\n",
       "         dist  \n",
       "0    5.335071  \n",
       "1  690.864475  \n",
       "2    7.999496  \n",
       "3  109.083222  \n",
       "4   12.581042  \n",
       "\n",
       "[5 rows x 33 columns]"
      ]
     },
     "execution_count": 43,
     "metadata": {},
     "output_type": "execute_result"
    }
   ],
   "source": [
    "#load data that is clean.\n",
    "df = pd.read_csv(os.path.join(path_prefix, 'Task1_0731/df_clean.csv'))\n",
    "df = df.drop(columns=['Unnamed: 0'])\n",
    "df.head()"
   ]
  },
  {
   "cell_type": "code",
   "execution_count": 44,
   "metadata": {},
   "outputs": [
    {
     "data": {
      "text/html": [
       "<div>\n",
       "<style scoped>\n",
       "    .dataframe tbody tr th:only-of-type {\n",
       "        vertical-align: middle;\n",
       "    }\n",
       "\n",
       "    .dataframe tbody tr th {\n",
       "        vertical-align: top;\n",
       "    }\n",
       "\n",
       "    .dataframe thead th {\n",
       "        text-align: right;\n",
       "    }\n",
       "</style>\n",
       "<table border=\"1\" class=\"dataframe\">\n",
       "  <thead>\n",
       "    <tr style=\"text-align: right;\">\n",
       "      <th></th>\n",
       "      <th>amount</th>\n",
       "      <th>age</th>\n",
       "      <th>avg_purchase_transaction</th>\n",
       "      <th>avg_purchase_monthly</th>\n",
       "      <th>purchase_ratio</th>\n",
       "    </tr>\n",
       "    <tr>\n",
       "      <th>customer_id</th>\n",
       "      <th></th>\n",
       "      <th></th>\n",
       "      <th></th>\n",
       "      <th></th>\n",
       "      <th></th>\n",
       "    </tr>\n",
       "  </thead>\n",
       "  <tbody>\n",
       "    <tr>\n",
       "      <th>CUS-1005756958</th>\n",
       "      <td>970.47</td>\n",
       "      <td>53</td>\n",
       "      <td>28.769615</td>\n",
       "      <td>249.336667</td>\n",
       "      <td>0.256924</td>\n",
       "    </tr>\n",
       "    <tr>\n",
       "      <th>CUS-1117979751</th>\n",
       "      <td>3578.65</td>\n",
       "      <td>21</td>\n",
       "      <td>23.321923</td>\n",
       "      <td>202.123333</td>\n",
       "      <td>0.056480</td>\n",
       "    </tr>\n",
       "    <tr>\n",
       "      <th>CUS-1140341822</th>\n",
       "      <td>1916.51</td>\n",
       "      <td>28</td>\n",
       "      <td>34.781282</td>\n",
       "      <td>452.156667</td>\n",
       "      <td>0.235927</td>\n",
       "    </tr>\n",
       "    <tr>\n",
       "      <th>CUS-1147642491</th>\n",
       "      <td>1711.39</td>\n",
       "      <td>34</td>\n",
       "      <td>54.271316</td>\n",
       "      <td>687.436667</td>\n",
       "      <td>0.401683</td>\n",
       "    </tr>\n",
       "    <tr>\n",
       "      <th>CUS-1196156254</th>\n",
       "      <td>3903.73</td>\n",
       "      <td>34</td>\n",
       "      <td>31.157432</td>\n",
       "      <td>768.550000</td>\n",
       "      <td>0.196876</td>\n",
       "    </tr>\n",
       "    <tr>\n",
       "      <th>...</th>\n",
       "      <td>...</td>\n",
       "      <td>...</td>\n",
       "      <td>...</td>\n",
       "      <td>...</td>\n",
       "      <td>...</td>\n",
       "    </tr>\n",
       "    <tr>\n",
       "      <th>CUS-72755508</th>\n",
       "      <td>725.32</td>\n",
       "      <td>35</td>\n",
       "      <td>25.022143</td>\n",
       "      <td>116.770000</td>\n",
       "      <td>0.160991</td>\n",
       "    </tr>\n",
       "    <tr>\n",
       "      <th>CUS-809013380</th>\n",
       "      <td>1037.07</td>\n",
       "      <td>21</td>\n",
       "      <td>22.255098</td>\n",
       "      <td>378.336667</td>\n",
       "      <td>0.364813</td>\n",
       "    </tr>\n",
       "    <tr>\n",
       "      <th>CUS-860700529</th>\n",
       "      <td>1808.62</td>\n",
       "      <td>30</td>\n",
       "      <td>28.164845</td>\n",
       "      <td>910.663333</td>\n",
       "      <td>0.503513</td>\n",
       "    </tr>\n",
       "    <tr>\n",
       "      <th>CUS-880898248</th>\n",
       "      <td>1433.98</td>\n",
       "      <td>26</td>\n",
       "      <td>20.101429</td>\n",
       "      <td>140.710000</td>\n",
       "      <td>0.098125</td>\n",
       "    </tr>\n",
       "    <tr>\n",
       "      <th>CUS-883482547</th>\n",
       "      <td>3977.46</td>\n",
       "      <td>19</td>\n",
       "      <td>30.635098</td>\n",
       "      <td>520.796667</td>\n",
       "      <td>0.130937</td>\n",
       "    </tr>\n",
       "  </tbody>\n",
       "</table>\n",
       "<p>100 rows × 5 columns</p>\n",
       "</div>"
      ],
      "text/plain": [
       "                 amount  age  avg_purchase_transaction  avg_purchase_monthly  \\\n",
       "customer_id                                                                    \n",
       "CUS-1005756958   970.47   53                 28.769615            249.336667   \n",
       "CUS-1117979751  3578.65   21                 23.321923            202.123333   \n",
       "CUS-1140341822  1916.51   28                 34.781282            452.156667   \n",
       "CUS-1147642491  1711.39   34                 54.271316            687.436667   \n",
       "CUS-1196156254  3903.73   34                 31.157432            768.550000   \n",
       "...                 ...  ...                       ...                   ...   \n",
       "CUS-72755508     725.32   35                 25.022143            116.770000   \n",
       "CUS-809013380   1037.07   21                 22.255098            378.336667   \n",
       "CUS-860700529   1808.62   30                 28.164845            910.663333   \n",
       "CUS-880898248   1433.98   26                 20.101429            140.710000   \n",
       "CUS-883482547   3977.46   19                 30.635098            520.796667   \n",
       "\n",
       "                purchase_ratio  \n",
       "customer_id                     \n",
       "CUS-1005756958        0.256924  \n",
       "CUS-1117979751        0.056480  \n",
       "CUS-1140341822        0.235927  \n",
       "CUS-1147642491        0.401683  \n",
       "CUS-1196156254        0.196876  \n",
       "...                        ...  \n",
       "CUS-72755508          0.160991  \n",
       "CUS-809013380         0.364813  \n",
       "CUS-860700529         0.503513  \n",
       "CUS-880898248         0.098125  \n",
       "CUS-883482547         0.130937  \n",
       "\n",
       "[100 rows x 5 columns]"
      ]
     },
     "execution_count": 44,
     "metadata": {},
     "output_type": "execute_result"
    }
   ],
   "source": [
    "# group by customer_id\n",
    "df_salary = df[df[\"txn_description\"]==(\"PAY/SALARY\")]\n",
    "df_customer = pd.pivot_table(df_salary, index='customer_id', values=[\"amount\"])\n",
    "df_customer['age'] = pd.pivot_table(df, index='customer_id', values=[\"age\"])\n",
    "df_purchase = df[df[\"txn_description\"]==('POS' or \"SALES-POS\")]\n",
    "df_customer['avg_purchase_transaction'] = pd.pivot_table(df_purchase, index='customer_id', values=[\"amount\"])\n",
    "df_purchase_amount = pd.pivot_table(df_purchase, values=\"amount\", index=\"customer_id\", columns=\"monthly\", aggfunc =sum, fill_value= 0)\n",
    "df_purchase_amount = df_purchase_amount.reset_index()\n",
    "df_customer[\"avg_purchase_monthly\"] = [sum(df_purchase_amount.loc[x,[8,9,10]])/3 for x in range(len(df_purchase_amount))]\n",
    "df_customer[\"purchase_ratio\"] = df_customer[\"avg_purchase_monthly\"]/df_customer[\"amount\"]\n",
    "df_customer"
   ]
  },
  {
   "cell_type": "code",
   "execution_count": 45,
   "metadata": {},
   "outputs": [
    {
     "data": {
      "text/html": [
       "<div>\n",
       "<style scoped>\n",
       "    .dataframe tbody tr th:only-of-type {\n",
       "        vertical-align: middle;\n",
       "    }\n",
       "\n",
       "    .dataframe tbody tr th {\n",
       "        vertical-align: top;\n",
       "    }\n",
       "\n",
       "    .dataframe thead th {\n",
       "        text-align: right;\n",
       "    }\n",
       "</style>\n",
       "<table border=\"1\" class=\"dataframe\">\n",
       "  <thead>\n",
       "    <tr style=\"text-align: right;\">\n",
       "      <th></th>\n",
       "      <th>amount</th>\n",
       "      <th>age</th>\n",
       "      <th>avg_purchase_transaction</th>\n",
       "      <th>avg_purchase_monthly</th>\n",
       "      <th>purchase_ratio</th>\n",
       "    </tr>\n",
       "    <tr>\n",
       "      <th>customer_id</th>\n",
       "      <th></th>\n",
       "      <th></th>\n",
       "      <th></th>\n",
       "      <th></th>\n",
       "      <th></th>\n",
       "    </tr>\n",
       "  </thead>\n",
       "  <tbody>\n",
       "    <tr>\n",
       "      <th>CUS-1005756958</th>\n",
       "      <td>970.47</td>\n",
       "      <td>53</td>\n",
       "      <td>28.769615</td>\n",
       "      <td>249.336667</td>\n",
       "      <td>0.256924</td>\n",
       "    </tr>\n",
       "    <tr>\n",
       "      <th>CUS-1117979751</th>\n",
       "      <td>3578.65</td>\n",
       "      <td>21</td>\n",
       "      <td>23.321923</td>\n",
       "      <td>202.123333</td>\n",
       "      <td>0.056480</td>\n",
       "    </tr>\n",
       "    <tr>\n",
       "      <th>CUS-1140341822</th>\n",
       "      <td>1916.51</td>\n",
       "      <td>28</td>\n",
       "      <td>34.781282</td>\n",
       "      <td>452.156667</td>\n",
       "      <td>0.235927</td>\n",
       "    </tr>\n",
       "    <tr>\n",
       "      <th>CUS-1147642491</th>\n",
       "      <td>1711.39</td>\n",
       "      <td>34</td>\n",
       "      <td>54.271316</td>\n",
       "      <td>687.436667</td>\n",
       "      <td>0.401683</td>\n",
       "    </tr>\n",
       "    <tr>\n",
       "      <th>CUS-1196156254</th>\n",
       "      <td>3903.73</td>\n",
       "      <td>34</td>\n",
       "      <td>31.157432</td>\n",
       "      <td>768.550000</td>\n",
       "      <td>0.196876</td>\n",
       "    </tr>\n",
       "    <tr>\n",
       "      <th>...</th>\n",
       "      <td>...</td>\n",
       "      <td>...</td>\n",
       "      <td>...</td>\n",
       "      <td>...</td>\n",
       "      <td>...</td>\n",
       "    </tr>\n",
       "    <tr>\n",
       "      <th>CUS-586638664</th>\n",
       "      <td>1952.29</td>\n",
       "      <td>18</td>\n",
       "      <td>25.039524</td>\n",
       "      <td>350.553333</td>\n",
       "      <td>0.179560</td>\n",
       "    </tr>\n",
       "    <tr>\n",
       "      <th>CUS-809013380</th>\n",
       "      <td>1037.07</td>\n",
       "      <td>21</td>\n",
       "      <td>22.255098</td>\n",
       "      <td>378.336667</td>\n",
       "      <td>0.364813</td>\n",
       "    </tr>\n",
       "    <tr>\n",
       "      <th>CUS-860700529</th>\n",
       "      <td>1808.62</td>\n",
       "      <td>30</td>\n",
       "      <td>28.164845</td>\n",
       "      <td>910.663333</td>\n",
       "      <td>0.503513</td>\n",
       "    </tr>\n",
       "    <tr>\n",
       "      <th>CUS-880898248</th>\n",
       "      <td>1433.98</td>\n",
       "      <td>26</td>\n",
       "      <td>20.101429</td>\n",
       "      <td>140.710000</td>\n",
       "      <td>0.098125</td>\n",
       "    </tr>\n",
       "    <tr>\n",
       "      <th>CUS-883482547</th>\n",
       "      <td>3977.46</td>\n",
       "      <td>19</td>\n",
       "      <td>30.635098</td>\n",
       "      <td>520.796667</td>\n",
       "      <td>0.130937</td>\n",
       "    </tr>\n",
       "  </tbody>\n",
       "</table>\n",
       "<p>80 rows × 5 columns</p>\n",
       "</div>"
      ],
      "text/plain": [
       "                 amount  age  avg_purchase_transaction  avg_purchase_monthly  \\\n",
       "customer_id                                                                    \n",
       "CUS-1005756958   970.47   53                 28.769615            249.336667   \n",
       "CUS-1117979751  3578.65   21                 23.321923            202.123333   \n",
       "CUS-1140341822  1916.51   28                 34.781282            452.156667   \n",
       "CUS-1147642491  1711.39   34                 54.271316            687.436667   \n",
       "CUS-1196156254  3903.73   34                 31.157432            768.550000   \n",
       "...                 ...  ...                       ...                   ...   \n",
       "CUS-586638664   1952.29   18                 25.039524            350.553333   \n",
       "CUS-809013380   1037.07   21                 22.255098            378.336667   \n",
       "CUS-860700529   1808.62   30                 28.164845            910.663333   \n",
       "CUS-880898248   1433.98   26                 20.101429            140.710000   \n",
       "CUS-883482547   3977.46   19                 30.635098            520.796667   \n",
       "\n",
       "                purchase_ratio  \n",
       "customer_id                     \n",
       "CUS-1005756958        0.256924  \n",
       "CUS-1117979751        0.056480  \n",
       "CUS-1140341822        0.235927  \n",
       "CUS-1147642491        0.401683  \n",
       "CUS-1196156254        0.196876  \n",
       "...                        ...  \n",
       "CUS-586638664         0.179560  \n",
       "CUS-809013380         0.364813  \n",
       "CUS-860700529         0.503513  \n",
       "CUS-880898248         0.098125  \n",
       "CUS-883482547         0.130937  \n",
       "\n",
       "[80 rows x 5 columns]"
      ]
     },
     "execution_count": 45,
     "metadata": {},
     "output_type": "execute_result"
    }
   ],
   "source": [
    "#drop the outlier\n",
    "df_customer= df_customer[df_customer.amount.between(df_customer.amount.quantile(.05),df_customer.amount.quantile(.95))]\n",
    "df_customer= df_customer[df_customer.avg_purchase_monthly.between(df_customer.avg_purchase_monthly.quantile(.05),df_customer.avg_purchase_monthly.quantile(.95))]\n",
    "df_customer"
   ]
  },
  {
   "cell_type": "code",
   "execution_count": 46,
   "metadata": {},
   "outputs": [
    {
     "data": {
      "text/plain": [
       "Text(0.5, 1.0, 'Salary vs age')"
      ]
     },
     "execution_count": 46,
     "metadata": {},
     "output_type": "execute_result"
    },
    {
     "data": {
      "image/png": "[encoded data removed]",
      "text/plain": [
       "<Figure size 432x288 with 1 Axes>"
      ]
     },
     "metadata": {
      "needs_background": "light"
     },
     "output_type": "display_data"
    }
   ],
   "source": [
    "#scatter plot\n",
    "plt.xlabel('Salary')\n",
    "plt.ylabel('age')\n",
    "plt.scatter(df_customer[\"amount\"], df_customer[\"age\"])\n",
    "plt.title('Salary vs age')"
   ]
  },
  {
   "cell_type": "code",
   "execution_count": 47,
   "metadata": {},
   "outputs": [
    {
     "data": {
      "text/plain": [
       "Text(0.5, 1.0, 'Salary vs Amount of Purchase per transaction')"
      ]
     },
     "execution_count": 47,
     "metadata": {},
     "output_type": "execute_result"
    },
    {
     "data": {
      "image/png": "[encoded data removed]",
      "text/plain": [
       "<Figure size 432x288 with 1 Axes>"
      ]
     },
     "metadata": {
      "needs_background": "light"
     },
     "output_type": "display_data"
    }
   ],
   "source": [
    "plt.xlabel('Salary')\n",
    "plt.ylabel('Amount of Purchase per transaction')\n",
    "plt.scatter(df_customer[\"amount\"], df_customer[\"avg_purchase_transaction\"])\n",
    "plt.title('Salary vs Amount of Purchase per transaction')"
   ]
  },
  {
   "cell_type": "code",
   "execution_count": 48,
   "metadata": {},
   "outputs": [
    {
     "data": {
      "text/plain": [
       "Text(0.5, 1.0, 'Salary vs Amount of Purchase per month')"
      ]
     },
     "execution_count": 48,
     "metadata": {},
     "output_type": "execute_result"
    },
    {
     "data": {
      "image/png": "[encoded data removed]",
      "text/plain": [
       "<Figure size 432x288 with 1 Axes>"
      ]
     },
     "metadata": {
      "needs_background": "light"
     },
     "output_type": "display_data"
    }
   ],
   "source": [
    "plt.xlabel('Salary')\n",
    "plt.ylabel('Amount of Purchase per month')\n",
    "plt.scatter(df_customer[\"amount\"], df_customer[\"avg_purchase_monthly\"])\n",
    "plt.title('Salary vs Amount of Purchase per month')"
   ]
  },
  {
   "cell_type": "code",
   "execution_count": 49,
   "metadata": {},
   "outputs": [
    {
     "data": {
      "text/plain": [
       "Text(0.5, 1.0, 'Salary vs Ratio of Purchase')"
      ]
     },
     "execution_count": 49,
     "metadata": {},
     "output_type": "execute_result"
    },
    {
     "data": {
      "image/png": "[encoded data removed]",
      "text/plain": [
       "<Figure size 432x288 with 1 Axes>"
      ]
     },
     "metadata": {
      "needs_background": "light"
     },
     "output_type": "display_data"
    }
   ],
   "source": [
    "plt.xlabel('Salary')\n",
    "plt.ylabel('Ratio of Purchase')\n",
    "plt.scatter(df_customer[\"amount\"], df_customer[\"purchase_ratio\"])\n",
    "plt.title('Salary vs Ratio of Purchase')"
   ]
  },
  {
   "cell_type": "markdown",
   "metadata": {},
   "source": [
    "### According to the above scatter plots, we can see age, the amount of purchase monthly, and ratio of purchase have correlation with Salary.  "
   ]
  },
  {
   "cell_type": "markdown",
   "metadata": {},
   "source": [
    "# 1.2 Simple Regression Model"
   ]
  },
  {
   "cell_type": "code",
   "execution_count": 50,
   "metadata": {},
   "outputs": [
    {
     "data": {
      "text/plain": [
       "Text(0.5, 1.0, 'Salary')"
      ]
     },
     "execution_count": 50,
     "metadata": {},
     "output_type": "execute_result"
    },
    {
     "data": {
      "image/png": "[encoded data removed]",
      "text/plain": [
       "<Figure size 432x288 with 1 Axes>"
      ]
     },
     "metadata": {
      "needs_background": "light"
     },
     "output_type": "display_data"
    }
   ],
   "source": [
    "#Check Normalization\n",
    "plt.xlabel('Salary')\n",
    "plt.ylabel('Frequency')\n",
    "plt.hist(df_customer.amount)\n",
    "plt.title(\"Salary\")"
   ]
  },
  {
   "cell_type": "code",
   "execution_count": 51,
   "metadata": {},
   "outputs": [
    {
     "data": {
      "text/plain": [
       "Text(0.5, 1.0, 'Age')"
      ]
     },
     "execution_count": 51,
     "metadata": {},
     "output_type": "execute_result"
    },
    {
     "data": {
      "image/png": "[encoded data removed]",
      "text/plain": [
       "<Figure size 432x288 with 1 Axes>"
      ]
     },
     "metadata": {
      "needs_background": "light"
     },
     "output_type": "display_data"
    }
   ],
   "source": [
    "plt.xlabel('Age')\n",
    "plt.ylabel('Frequency')\n",
    "plt.hist(df_customer.age)\n",
    "plt.title(\"Age\")"
   ]
  },
  {
   "cell_type": "code",
   "execution_count": 52,
   "metadata": {},
   "outputs": [
    {
     "data": {
      "text/plain": [
       "Text(0.5, 1.0, 'Purchase per month')"
      ]
     },
     "execution_count": 52,
     "metadata": {},
     "output_type": "execute_result"
    },
    {
     "data": {
      "image/png": "[encoded data removed]",
      "text/plain": [
       "<Figure size 432x288 with 1 Axes>"
      ]
     },
     "metadata": {
      "needs_background": "light"
     },
     "output_type": "display_data"
    }
   ],
   "source": [
    "plt.xlabel('Purchase per month')\n",
    "plt.ylabel('Frequency')\n",
    "plt.hist(df_customer.avg_purchase_monthly)\n",
    "plt.title(\"Purchase per month\")"
   ]
  },
  {
   "cell_type": "code",
   "execution_count": 53,
   "metadata": {},
   "outputs": [
    {
     "data": {
      "text/plain": [
       "Text(0.5, 1.0, 'Ratio of Purchase')"
      ]
     },
     "execution_count": 53,
     "metadata": {},
     "output_type": "execute_result"
    },
    {
     "data": {
      "image/png": "[encoded data removed]",
      "text/plain": [
       "<Figure size 432x288 with 1 Axes>"
      ]
     },
     "metadata": {
      "needs_background": "light"
     },
     "output_type": "display_data"
    }
   ],
   "source": [
    "plt.xlabel('Ratio of Purchase')\n",
    "plt.ylabel('Frequency')\n",
    "plt.hist(df_customer.purchase_ratio)\n",
    "plt.title(\"Ratio of Purchase\")"
   ]
  },
  {
   "cell_type": "code",
   "execution_count": 54,
   "metadata": {},
   "outputs": [],
   "source": [
    "#Normalization\n",
    "df_customer['Salary_Log'] = df_customer['amount']**(1/2)\n",
    "df_customer['age_LOG'] = df_customer['age']**(1/2)\n",
    "df_customer['avg_purchase_monthly_LOG'] = df_customer['avg_purchase_monthly']**(1/2)\n",
    "df_customer['purchase_ratio_LOG'] = df_customer['purchase_ratio']**(1/2)"
   ]
  },
  {
   "cell_type": "code",
   "execution_count": 55,
   "metadata": {
    "scrolled": true
   },
   "outputs": [
    {
     "data": {
      "text/plain": [
       "Text(0.5, 1.0, 'Salary')"
      ]
     },
     "execution_count": 55,
     "metadata": {},
     "output_type": "execute_result"
    },
    {
     "data": {
      "image/png": "[encoded data removed]",
      "text/plain": [
       "<Figure size 432x288 with 1 Axes>"
      ]
     },
     "metadata": {
      "needs_background": "light"
     },
     "output_type": "display_data"
    }
   ],
   "source": [
    "plt.xlabel('Salary')\n",
    "plt.ylabel('Frequency')\n",
    "plt.hist(df_customer.Salary_Log)\n",
    "plt.title(\"Salary\")"
   ]
  },
  {
   "cell_type": "code",
   "execution_count": 56,
   "metadata": {},
   "outputs": [
    {
     "data": {
      "text/plain": [
       "Text(0.5, 1.0, 'Age')"
      ]
     },
     "execution_count": 56,
     "metadata": {},
     "output_type": "execute_result"
    },
    {
     "data": {
      "image/png": "[encoded data removed]",
      "text/plain": [
       "<Figure size 432x288 with 1 Axes>"
      ]
     },
     "metadata": {
      "needs_background": "light"
     },
     "output_type": "display_data"
    }
   ],
   "source": [
    "plt.xlabel('Age')\n",
    "plt.ylabel('Frequency')\n",
    "plt.hist(df_customer.age_LOG)\n",
    "plt.title(\"Age\")"
   ]
  },
  {
   "cell_type": "code",
   "execution_count": 57,
   "metadata": {},
   "outputs": [
    {
     "data": {
      "text/plain": [
       "Text(0.5, 1.0, 'Purchase per month')"
      ]
     },
     "execution_count": 57,
     "metadata": {},
     "output_type": "execute_result"
    },
    {
     "data": {
      "image/png": "[encoded data removed]",
      "text/plain": [
       "<Figure size 432x288 with 1 Axes>"
      ]
     },
     "metadata": {
      "needs_background": "light"
     },
     "output_type": "display_data"
    }
   ],
   "source": [
    "plt.xlabel('Purchase per month')\n",
    "plt.ylabel('Frequency')\n",
    "plt.hist(df_customer.avg_purchase_monthly_LOG)\n",
    "plt.title(\"Purchase per month\")"
   ]
  },
  {
   "cell_type": "code",
   "execution_count": 58,
   "metadata": {},
   "outputs": [
    {
     "data": {
      "text/plain": [
       "Text(0.5, 1.0, 'Ratio of Purchase')"
      ]
     },
     "execution_count": 58,
     "metadata": {},
     "output_type": "execute_result"
    },
    {
     "data": {
      "image/png": "[encoded data removed]",
      "text/plain": [
       "<Figure size 432x288 with 1 Axes>"
      ]
     },
     "metadata": {
      "needs_background": "light"
     },
     "output_type": "display_data"
    }
   ],
   "source": [
    "plt.xlabel('Ratio of Purchase')\n",
    "plt.ylabel('Frequency')\n",
    "plt.hist(df_customer.purchase_ratio_LOG)\n",
    "plt.title(\"Ratio of Purchase\")"
   ]
  },
  {
   "cell_type": "code",
   "execution_count": 59,
   "metadata": {},
   "outputs": [],
   "source": [
    "target = df_customer[['Salary_Log']]\n",
    "df_customer_vars = df_customer[['age_LOG', 'avg_purchase_monthly_LOG', 'purchase_ratio_LOG']]"
   ]
  },
  {
   "cell_type": "code",
   "execution_count": 60,
   "metadata": {},
   "outputs": [],
   "source": [
    "# Split into train vs. test data\n",
    "from sklearn.preprocessing import StandardScaler\n",
    "scaler = StandardScaler()\n",
    "df_customer_vars_scaled = scaler.fit_transform(df_customer_vars)\n",
    "\n",
    "from sklearn.model_selection import train_test_split\n",
    "x_train, x_test, y_train, y_test = train_test_split(df_customer_vars_scaled, \n",
    "                                                    target, \n",
    "                                                    test_size=0.2, \n",
    "                                                    random_state=1)"
   ]
  },
  {
   "cell_type": "code",
   "execution_count": 61,
   "metadata": {},
   "outputs": [],
   "source": [
    "from sklearn import linear_model\n",
    "# Create an object that is an ols regression\n",
    "ols = linear_model.LinearRegression()\n",
    "# Train the model using our training data\n",
    "linear_model = ols.fit(x_train, y_train)"
   ]
  },
  {
   "cell_type": "code",
   "execution_count": 62,
   "metadata": {},
   "outputs": [
    {
     "data": {
      "text/plain": [
       "array([[ -0.27913347,  11.42090276, -16.99567094]])"
      ]
     },
     "execution_count": 62,
     "metadata": {},
     "output_type": "execute_result"
    }
   ],
   "source": [
    "linear_model.coef_"
   ]
  },
  {
   "cell_type": "code",
   "execution_count": 63,
   "metadata": {},
   "outputs": [
    {
     "data": {
      "text/plain": [
       "('Training:', 0.8330947675711675, 'Testing:', 0.8305779679278906)"
      ]
     },
     "execution_count": 63,
     "metadata": {},
     "output_type": "execute_result"
    }
   ],
   "source": [
    "#R square error\n",
    "(\"Training:\", linear_model.score(x_train, y_train),\"Testing:\", linear_model.score(x_test, y_test)) "
   ]
  },
  {
   "cell_type": "code",
   "execution_count": 64,
   "metadata": {},
   "outputs": [
    {
     "name": "stderr",
     "output_type": "stream",
     "text": [
      "C:\\Users\\USER\\anaconda3\\lib\\site-packages\\ipykernel_launcher.py:2: SettingWithCopyWarning: \n",
      "A value is trying to be set on a copy of a slice from a DataFrame.\n",
      "Try using .loc[row_indexer,col_indexer] = value instead\n",
      "\n",
      "See the caveats in the documentation: https://pandas.pydata.org/pandas-docs/stable/user_guide/indexing.html#returning-a-view-versus-a-copy\n",
      "  \n"
     ]
    },
    {
     "data": {
      "text/html": [
       "<div>\n",
       "<style scoped>\n",
       "    .dataframe tbody tr th:only-of-type {\n",
       "        vertical-align: middle;\n",
       "    }\n",
       "\n",
       "    .dataframe tbody tr th {\n",
       "        vertical-align: top;\n",
       "    }\n",
       "\n",
       "    .dataframe thead th {\n",
       "        text-align: right;\n",
       "    }\n",
       "</style>\n",
       "<table border=\"1\" class=\"dataframe\">\n",
       "  <thead>\n",
       "    <tr style=\"text-align: right;\">\n",
       "      <th></th>\n",
       "      <th>Salary_Log</th>\n",
       "      <th>linear_preds</th>\n",
       "    </tr>\n",
       "    <tr>\n",
       "      <th>customer_id</th>\n",
       "      <th></th>\n",
       "      <th></th>\n",
       "    </tr>\n",
       "  </thead>\n",
       "  <tbody>\n",
       "    <tr>\n",
       "      <th>CUS-3716701010</th>\n",
       "      <td>35.671697</td>\n",
       "      <td>38.415258</td>\n",
       "    </tr>\n",
       "    <tr>\n",
       "      <th>CUS-2083971310</th>\n",
       "      <td>53.726344</td>\n",
       "      <td>53.656757</td>\n",
       "    </tr>\n",
       "    <tr>\n",
       "      <th>CUS-2283904812</th>\n",
       "      <td>47.103397</td>\n",
       "      <td>49.499822</td>\n",
       "    </tr>\n",
       "    <tr>\n",
       "      <th>CUS-443776336</th>\n",
       "      <td>31.473004</td>\n",
       "      <td>30.397312</td>\n",
       "    </tr>\n",
       "    <tr>\n",
       "      <th>CUS-3117610635</th>\n",
       "      <td>52.139333</td>\n",
       "      <td>53.795371</td>\n",
       "    </tr>\n",
       "    <tr>\n",
       "      <th>CUS-3129499595</th>\n",
       "      <td>31.563270</td>\n",
       "      <td>28.179738</td>\n",
       "    </tr>\n",
       "    <tr>\n",
       "      <th>CUS-325142416</th>\n",
       "      <td>48.027388</td>\n",
       "      <td>50.865068</td>\n",
       "    </tr>\n",
       "    <tr>\n",
       "      <th>CUS-55310383</th>\n",
       "      <td>40.456396</td>\n",
       "      <td>45.219112</td>\n",
       "    </tr>\n",
       "    <tr>\n",
       "      <th>CUS-2650223890</th>\n",
       "      <td>29.376011</td>\n",
       "      <td>27.651588</td>\n",
       "    </tr>\n",
       "    <tr>\n",
       "      <th>CUS-537508723</th>\n",
       "      <td>50.723860</td>\n",
       "      <td>53.182725</td>\n",
       "    </tr>\n",
       "    <tr>\n",
       "      <th>CUS-2370108457</th>\n",
       "      <td>46.690042</td>\n",
       "      <td>49.207944</td>\n",
       "    </tr>\n",
       "    <tr>\n",
       "      <th>CUS-3702001629</th>\n",
       "      <td>39.213263</td>\n",
       "      <td>40.124059</td>\n",
       "    </tr>\n",
       "    <tr>\n",
       "      <th>CUS-2505971401</th>\n",
       "      <td>44.119950</td>\n",
       "      <td>46.920972</td>\n",
       "    </tr>\n",
       "    <tr>\n",
       "      <th>CUS-2663907001</th>\n",
       "      <td>63.677076</td>\n",
       "      <td>56.571974</td>\n",
       "    </tr>\n",
       "    <tr>\n",
       "      <th>CUS-3378712515</th>\n",
       "      <td>32.555184</td>\n",
       "      <td>22.352038</td>\n",
       "    </tr>\n",
       "    <tr>\n",
       "      <th>CUS-1433879684</th>\n",
       "      <td>37.524392</td>\n",
       "      <td>37.519255</td>\n",
       "    </tr>\n",
       "  </tbody>\n",
       "</table>\n",
       "</div>"
      ],
      "text/plain": [
       "                Salary_Log  linear_preds\n",
       "customer_id                             \n",
       "CUS-3716701010   35.671697     38.415258\n",
       "CUS-2083971310   53.726344     53.656757\n",
       "CUS-2283904812   47.103397     49.499822\n",
       "CUS-443776336    31.473004     30.397312\n",
       "CUS-3117610635   52.139333     53.795371\n",
       "CUS-3129499595   31.563270     28.179738\n",
       "CUS-325142416    48.027388     50.865068\n",
       "CUS-55310383     40.456396     45.219112\n",
       "CUS-2650223890   29.376011     27.651588\n",
       "CUS-537508723    50.723860     53.182725\n",
       "CUS-2370108457   46.690042     49.207944\n",
       "CUS-3702001629   39.213263     40.124059\n",
       "CUS-2505971401   44.119950     46.920972\n",
       "CUS-2663907001   63.677076     56.571974\n",
       "CUS-3378712515   32.555184     22.352038\n",
       "CUS-1433879684   37.524392     37.519255"
      ]
     },
     "execution_count": 64,
     "metadata": {},
     "output_type": "execute_result"
    }
   ],
   "source": [
    "y_test_plot = y_test\n",
    "y_test_plot['linear_preds'] = linear_model.predict(x_test)\n",
    "y_test_plot"
   ]
  },
  {
   "cell_type": "code",
   "execution_count": 65,
   "metadata": {},
   "outputs": [
    {
     "data": {
      "text/plain": [
       "<seaborn.axisgrid.FacetGrid at 0x2856bbb35c8>"
      ]
     },
     "execution_count": 65,
     "metadata": {},
     "output_type": "execute_result"
    },
    {
     "data": {
      "image/png": "[encoded data removed]",
      "text/plain": [
       "<Figure size 360x360 with 1 Axes>"
      ]
     },
     "metadata": {
      "needs_background": "light"
     },
     "output_type": "display_data"
    }
   ],
   "source": [
    "import seaborn as sns\n",
    "sns.lmplot('linear_preds', 'Salary_Log', data=y_test_plot, fit_reg=False)"
   ]
  },
  {
   "cell_type": "markdown",
   "metadata": {},
   "source": [
    "### Using the r square to evaluate the model, and getting 0.83. As we can see, there are not overfitting. In my opinion,  ANZ can identify the customers' income level by their ratio of purchase and the amount of purchase.  "
   ]
  },
  {
   "cell_type": "markdown",
   "metadata": {},
   "source": [
    "# 1.3 Decision-tree"
   ]
  },
  {
   "cell_type": "code",
   "execution_count": 80,
   "metadata": {},
   "outputs": [],
   "source": [
    "from sklearn.tree import DecisionTreeRegressor\n",
    "dtr = DecisionTreeRegressor(max_depth = 3,random_state=0)\n",
    "decisiontree_model = dtr.fit(x_train, y_train)"
   ]
  },
  {
   "cell_type": "code",
   "execution_count": 81,
   "metadata": {},
   "outputs": [
    {
     "data": {
      "text/plain": [
       "array([0.01102117, 0.30139434, 0.68758449])"
      ]
     },
     "execution_count": 81,
     "metadata": {},
     "output_type": "execute_result"
    }
   ],
   "source": [
    "decisiontree_model.feature_importances_"
   ]
  },
  {
   "cell_type": "code",
   "execution_count": 82,
   "metadata": {},
   "outputs": [
    {
     "data": {
      "text/plain": [
       "('Training:', 0.8098741382425696, 'Testing:', 0.44536341545814345)"
      ]
     },
     "execution_count": 82,
     "metadata": {},
     "output_type": "execute_result"
    }
   ],
   "source": [
    "#R square error\n",
    "(\"Training:\", decisiontree_model.score(x_train, y_train),\"Testing:\", decisiontree_model.score(x_test, y_test['Salary_Log'])) "
   ]
  },
  {
   "cell_type": "code",
   "execution_count": 83,
   "metadata": {},
   "outputs": [
    {
     "name": "stderr",
     "output_type": "stream",
     "text": [
      "C:\\Users\\USER\\anaconda3\\lib\\site-packages\\ipykernel_launcher.py:1: SettingWithCopyWarning: \n",
      "A value is trying to be set on a copy of a slice from a DataFrame.\n",
      "Try using .loc[row_indexer,col_indexer] = value instead\n",
      "\n",
      "See the caveats in the documentation: https://pandas.pydata.org/pandas-docs/stable/user_guide/indexing.html#returning-a-view-versus-a-copy\n",
      "  \"\"\"Entry point for launching an IPython kernel.\n"
     ]
    },
    {
     "data": {
      "text/html": [
       "<div>\n",
       "<style scoped>\n",
       "    .dataframe tbody tr th:only-of-type {\n",
       "        vertical-align: middle;\n",
       "    }\n",
       "\n",
       "    .dataframe tbody tr th {\n",
       "        vertical-align: top;\n",
       "    }\n",
       "\n",
       "    .dataframe thead th {\n",
       "        text-align: right;\n",
       "    }\n",
       "</style>\n",
       "<table border=\"1\" class=\"dataframe\">\n",
       "  <thead>\n",
       "    <tr style=\"text-align: right;\">\n",
       "      <th></th>\n",
       "      <th>Salary_Log</th>\n",
       "      <th>linear_preds</th>\n",
       "      <th>decisiontree_preds</th>\n",
       "    </tr>\n",
       "    <tr>\n",
       "      <th>customer_id</th>\n",
       "      <th></th>\n",
       "      <th></th>\n",
       "      <th></th>\n",
       "    </tr>\n",
       "  </thead>\n",
       "  <tbody>\n",
       "    <tr>\n",
       "      <th>CUS-3716701010</th>\n",
       "      <td>35.671697</td>\n",
       "      <td>38.415258</td>\n",
       "      <td>35.155156</td>\n",
       "    </tr>\n",
       "    <tr>\n",
       "      <th>CUS-2083971310</th>\n",
       "      <td>53.726344</td>\n",
       "      <td>53.656757</td>\n",
       "      <td>61.925797</td>\n",
       "    </tr>\n",
       "    <tr>\n",
       "      <th>CUS-2283904812</th>\n",
       "      <td>47.103397</td>\n",
       "      <td>49.499822</td>\n",
       "      <td>45.033288</td>\n",
       "    </tr>\n",
       "    <tr>\n",
       "      <th>CUS-443776336</th>\n",
       "      <td>31.473004</td>\n",
       "      <td>30.397312</td>\n",
       "      <td>35.069925</td>\n",
       "    </tr>\n",
       "    <tr>\n",
       "      <th>CUS-3117610635</th>\n",
       "      <td>52.139333</td>\n",
       "      <td>53.795371</td>\n",
       "      <td>48.747952</td>\n",
       "    </tr>\n",
       "    <tr>\n",
       "      <th>CUS-3129499595</th>\n",
       "      <td>31.563270</td>\n",
       "      <td>28.179738</td>\n",
       "      <td>35.069925</td>\n",
       "    </tr>\n",
       "    <tr>\n",
       "      <th>CUS-325142416</th>\n",
       "      <td>48.027388</td>\n",
       "      <td>50.865068</td>\n",
       "      <td>48.747952</td>\n",
       "    </tr>\n",
       "    <tr>\n",
       "      <th>CUS-55310383</th>\n",
       "      <td>40.456396</td>\n",
       "      <td>45.219112</td>\n",
       "      <td>45.033288</td>\n",
       "    </tr>\n",
       "    <tr>\n",
       "      <th>CUS-2650223890</th>\n",
       "      <td>29.376011</td>\n",
       "      <td>27.651588</td>\n",
       "      <td>35.069925</td>\n",
       "    </tr>\n",
       "    <tr>\n",
       "      <th>CUS-537508723</th>\n",
       "      <td>50.723860</td>\n",
       "      <td>53.182725</td>\n",
       "      <td>48.747952</td>\n",
       "    </tr>\n",
       "    <tr>\n",
       "      <th>CUS-2370108457</th>\n",
       "      <td>46.690042</td>\n",
       "      <td>49.207944</td>\n",
       "      <td>35.069925</td>\n",
       "    </tr>\n",
       "    <tr>\n",
       "      <th>CUS-3702001629</th>\n",
       "      <td>39.213263</td>\n",
       "      <td>40.124059</td>\n",
       "      <td>35.069925</td>\n",
       "    </tr>\n",
       "    <tr>\n",
       "      <th>CUS-2505971401</th>\n",
       "      <td>44.119950</td>\n",
       "      <td>46.920972</td>\n",
       "      <td>48.747952</td>\n",
       "    </tr>\n",
       "    <tr>\n",
       "      <th>CUS-2663907001</th>\n",
       "      <td>63.677076</td>\n",
       "      <td>56.571974</td>\n",
       "      <td>61.925797</td>\n",
       "    </tr>\n",
       "    <tr>\n",
       "      <th>CUS-3378712515</th>\n",
       "      <td>32.555184</td>\n",
       "      <td>22.352038</td>\n",
       "      <td>53.293058</td>\n",
       "    </tr>\n",
       "    <tr>\n",
       "      <th>CUS-1433879684</th>\n",
       "      <td>37.524392</td>\n",
       "      <td>37.519255</td>\n",
       "      <td>35.069925</td>\n",
       "    </tr>\n",
       "  </tbody>\n",
       "</table>\n",
       "</div>"
      ],
      "text/plain": [
       "                Salary_Log  linear_preds  decisiontree_preds\n",
       "customer_id                                                 \n",
       "CUS-3716701010   35.671697     38.415258           35.155156\n",
       "CUS-2083971310   53.726344     53.656757           61.925797\n",
       "CUS-2283904812   47.103397     49.499822           45.033288\n",
       "CUS-443776336    31.473004     30.397312           35.069925\n",
       "CUS-3117610635   52.139333     53.795371           48.747952\n",
       "CUS-3129499595   31.563270     28.179738           35.069925\n",
       "CUS-325142416    48.027388     50.865068           48.747952\n",
       "CUS-55310383     40.456396     45.219112           45.033288\n",
       "CUS-2650223890   29.376011     27.651588           35.069925\n",
       "CUS-537508723    50.723860     53.182725           48.747952\n",
       "CUS-2370108457   46.690042     49.207944           35.069925\n",
       "CUS-3702001629   39.213263     40.124059           35.069925\n",
       "CUS-2505971401   44.119950     46.920972           48.747952\n",
       "CUS-2663907001   63.677076     56.571974           61.925797\n",
       "CUS-3378712515   32.555184     22.352038           53.293058\n",
       "CUS-1433879684   37.524392     37.519255           35.069925"
      ]
     },
     "execution_count": 83,
     "metadata": {},
     "output_type": "execute_result"
    }
   ],
   "source": [
    "y_test_plot['decisiontree_preds'] = decisiontree_model.predict(x_test)\n",
    "y_test_plot"
   ]
  },
  {
   "cell_type": "code",
   "execution_count": 84,
   "metadata": {},
   "outputs": [
    {
     "data": {
      "text/plain": [
       "<seaborn.axisgrid.FacetGrid at 0x2856cc8e9c8>"
      ]
     },
     "execution_count": 84,
     "metadata": {},
     "output_type": "execute_result"
    },
    {
     "data": {
      "image/png": "[encoded data removed]",
      "text/plain": [
       "<Figure size 360x360 with 1 Axes>"
      ]
     },
     "metadata": {
      "needs_background": "light"
     },
     "output_type": "display_data"
    }
   ],
   "source": [
    "sns.lmplot('decisiontree_preds', 'Salary_Log', data=y_test_plot, fit_reg=False)"
   ]
  },
  {
   "cell_type": "code",
   "execution_count": 85,
   "metadata": {},
   "outputs": [
    {
     "name": "stderr",
     "output_type": "stream",
     "text": [
      "C:\\Users\\USER\\anaconda3\\lib\\site-packages\\ipykernel_launcher.py:3: DataConversionWarning: A column-vector y was passed when a 1d array was expected. Please change the shape of y to (n_samples,), for example using ravel().\n",
      "  This is separate from the ipykernel package so we can avoid doing imports until\n"
     ]
    }
   ],
   "source": [
    "from sklearn.ensemble import RandomForestRegressor\n",
    "rf = RandomForestRegressor(random_state=0)\n",
    "rf_model = rf.fit(x_train, y_train)"
   ]
  },
  {
   "cell_type": "code",
   "execution_count": 86,
   "metadata": {},
   "outputs": [
    {
     "data": {
      "text/plain": [
       "array([0.0533648 , 0.28601881, 0.66061639])"
      ]
     },
     "execution_count": 86,
     "metadata": {},
     "output_type": "execute_result"
    }
   ],
   "source": [
    "rf_model.feature_importances_"
   ]
  },
  {
   "cell_type": "code",
   "execution_count": 87,
   "metadata": {},
   "outputs": [
    {
     "data": {
      "text/plain": [
       "('Training:', 0.9603413107235051, 'Testing:', 0.8959376028016519)"
      ]
     },
     "execution_count": 87,
     "metadata": {},
     "output_type": "execute_result"
    }
   ],
   "source": [
    "#R square error\n",
    "(\"Training:\", rf_model.score(x_train, y_train),\"Testing:\", rf_model.score(x_test, y_test['Salary_Log'])) "
   ]
  },
  {
   "cell_type": "code",
   "execution_count": 88,
   "metadata": {},
   "outputs": [
    {
     "name": "stderr",
     "output_type": "stream",
     "text": [
      "C:\\Users\\USER\\anaconda3\\lib\\site-packages\\ipykernel_launcher.py:1: SettingWithCopyWarning: \n",
      "A value is trying to be set on a copy of a slice from a DataFrame.\n",
      "Try using .loc[row_indexer,col_indexer] = value instead\n",
      "\n",
      "See the caveats in the documentation: https://pandas.pydata.org/pandas-docs/stable/user_guide/indexing.html#returning-a-view-versus-a-copy\n",
      "  \"\"\"Entry point for launching an IPython kernel.\n"
     ]
    },
    {
     "data": {
      "text/html": [
       "<div>\n",
       "<style scoped>\n",
       "    .dataframe tbody tr th:only-of-type {\n",
       "        vertical-align: middle;\n",
       "    }\n",
       "\n",
       "    .dataframe tbody tr th {\n",
       "        vertical-align: top;\n",
       "    }\n",
       "\n",
       "    .dataframe thead th {\n",
       "        text-align: right;\n",
       "    }\n",
       "</style>\n",
       "<table border=\"1\" class=\"dataframe\">\n",
       "  <thead>\n",
       "    <tr style=\"text-align: right;\">\n",
       "      <th></th>\n",
       "      <th>Salary_Log</th>\n",
       "      <th>linear_preds</th>\n",
       "      <th>decisiontree_preds</th>\n",
       "      <th>rf_preds</th>\n",
       "    </tr>\n",
       "    <tr>\n",
       "      <th>customer_id</th>\n",
       "      <th></th>\n",
       "      <th></th>\n",
       "      <th></th>\n",
       "      <th></th>\n",
       "    </tr>\n",
       "  </thead>\n",
       "  <tbody>\n",
       "    <tr>\n",
       "      <th>CUS-3716701010</th>\n",
       "      <td>35.671697</td>\n",
       "      <td>38.415258</td>\n",
       "      <td>35.155156</td>\n",
       "      <td>37.272225</td>\n",
       "    </tr>\n",
       "    <tr>\n",
       "      <th>CUS-2083971310</th>\n",
       "      <td>53.726344</td>\n",
       "      <td>53.656757</td>\n",
       "      <td>61.925797</td>\n",
       "      <td>58.620237</td>\n",
       "    </tr>\n",
       "    <tr>\n",
       "      <th>CUS-2283904812</th>\n",
       "      <td>47.103397</td>\n",
       "      <td>49.499822</td>\n",
       "      <td>45.033288</td>\n",
       "      <td>45.669148</td>\n",
       "    </tr>\n",
       "    <tr>\n",
       "      <th>CUS-443776336</th>\n",
       "      <td>31.473004</td>\n",
       "      <td>30.397312</td>\n",
       "      <td>35.069925</td>\n",
       "      <td>34.567192</td>\n",
       "    </tr>\n",
       "    <tr>\n",
       "      <th>CUS-3117610635</th>\n",
       "      <td>52.139333</td>\n",
       "      <td>53.795371</td>\n",
       "      <td>48.747952</td>\n",
       "      <td>49.010166</td>\n",
       "    </tr>\n",
       "    <tr>\n",
       "      <th>CUS-3129499595</th>\n",
       "      <td>31.563270</td>\n",
       "      <td>28.179738</td>\n",
       "      <td>35.069925</td>\n",
       "      <td>35.532015</td>\n",
       "    </tr>\n",
       "    <tr>\n",
       "      <th>CUS-325142416</th>\n",
       "      <td>48.027388</td>\n",
       "      <td>50.865068</td>\n",
       "      <td>48.747952</td>\n",
       "      <td>47.043657</td>\n",
       "    </tr>\n",
       "    <tr>\n",
       "      <th>CUS-55310383</th>\n",
       "      <td>40.456396</td>\n",
       "      <td>45.219112</td>\n",
       "      <td>45.033288</td>\n",
       "      <td>42.926458</td>\n",
       "    </tr>\n",
       "    <tr>\n",
       "      <th>CUS-2650223890</th>\n",
       "      <td>29.376011</td>\n",
       "      <td>27.651588</td>\n",
       "      <td>35.069925</td>\n",
       "      <td>33.311250</td>\n",
       "    </tr>\n",
       "    <tr>\n",
       "      <th>CUS-537508723</th>\n",
       "      <td>50.723860</td>\n",
       "      <td>53.182725</td>\n",
       "      <td>48.747952</td>\n",
       "      <td>48.070784</td>\n",
       "    </tr>\n",
       "    <tr>\n",
       "      <th>CUS-2370108457</th>\n",
       "      <td>46.690042</td>\n",
       "      <td>49.207944</td>\n",
       "      <td>35.069925</td>\n",
       "      <td>41.400525</td>\n",
       "    </tr>\n",
       "    <tr>\n",
       "      <th>CUS-3702001629</th>\n",
       "      <td>39.213263</td>\n",
       "      <td>40.124059</td>\n",
       "      <td>35.069925</td>\n",
       "      <td>36.594397</td>\n",
       "    </tr>\n",
       "    <tr>\n",
       "      <th>CUS-2505971401</th>\n",
       "      <td>44.119950</td>\n",
       "      <td>46.920972</td>\n",
       "      <td>48.747952</td>\n",
       "      <td>43.219665</td>\n",
       "    </tr>\n",
       "    <tr>\n",
       "      <th>CUS-2663907001</th>\n",
       "      <td>63.677076</td>\n",
       "      <td>56.571974</td>\n",
       "      <td>61.925797</td>\n",
       "      <td>62.752714</td>\n",
       "    </tr>\n",
       "    <tr>\n",
       "      <th>CUS-3378712515</th>\n",
       "      <td>32.555184</td>\n",
       "      <td>22.352038</td>\n",
       "      <td>53.293058</td>\n",
       "      <td>36.246156</td>\n",
       "    </tr>\n",
       "    <tr>\n",
       "      <th>CUS-1433879684</th>\n",
       "      <td>37.524392</td>\n",
       "      <td>37.519255</td>\n",
       "      <td>35.069925</td>\n",
       "      <td>35.860966</td>\n",
       "    </tr>\n",
       "  </tbody>\n",
       "</table>\n",
       "</div>"
      ],
      "text/plain": [
       "                Salary_Log  linear_preds  decisiontree_preds   rf_preds\n",
       "customer_id                                                            \n",
       "CUS-3716701010   35.671697     38.415258           35.155156  37.272225\n",
       "CUS-2083971310   53.726344     53.656757           61.925797  58.620237\n",
       "CUS-2283904812   47.103397     49.499822           45.033288  45.669148\n",
       "CUS-443776336    31.473004     30.397312           35.069925  34.567192\n",
       "CUS-3117610635   52.139333     53.795371           48.747952  49.010166\n",
       "CUS-3129499595   31.563270     28.179738           35.069925  35.532015\n",
       "CUS-325142416    48.027388     50.865068           48.747952  47.043657\n",
       "CUS-55310383     40.456396     45.219112           45.033288  42.926458\n",
       "CUS-2650223890   29.376011     27.651588           35.069925  33.311250\n",
       "CUS-537508723    50.723860     53.182725           48.747952  48.070784\n",
       "CUS-2370108457   46.690042     49.207944           35.069925  41.400525\n",
       "CUS-3702001629   39.213263     40.124059           35.069925  36.594397\n",
       "CUS-2505971401   44.119950     46.920972           48.747952  43.219665\n",
       "CUS-2663907001   63.677076     56.571974           61.925797  62.752714\n",
       "CUS-3378712515   32.555184     22.352038           53.293058  36.246156\n",
       "CUS-1433879684   37.524392     37.519255           35.069925  35.860966"
      ]
     },
     "execution_count": 88,
     "metadata": {},
     "output_type": "execute_result"
    }
   ],
   "source": [
    "y_test_plot['rf_preds'] = rf_model.predict(x_test)\n",
    "y_test_plot"
   ]
  },
  {
   "cell_type": "code",
   "execution_count": 89,
   "metadata": {},
   "outputs": [
    {
     "data": {
      "text/plain": [
       "<seaborn.axisgrid.FacetGrid at 0x2856cd76948>"
      ]
     },
     "execution_count": 89,
     "metadata": {},
     "output_type": "execute_result"
    },
    {
     "data": {
      "image/png": "[encoded data removed]",
      "text/plain": [
       "<Figure size 360x360 with 1 Axes>"
      ]
     },
     "metadata": {
      "needs_background": "light"
     },
     "output_type": "display_data"
    }
   ],
   "source": [
    "sns.lmplot('rf_preds', 'Salary_Log', data=y_test_plot, fit_reg=False)"
   ]
  },
  {
   "cell_type": "markdown",
   "metadata": {},
   "source": [
    "###  It is perform better by using Random Forest model. Using the r square to evaluate the model, and getting 0.96. However, as we can seen, it is a little big overfitting. At begining, I split the data set into two data set: training and test. In the end of training, drawing a scattor plot observate the linear to evaluate the performance of this model. "
   ]
  },
  {
   "cell_type": "code",
   "execution_count": null,
   "metadata": {},
   "outputs": [],
   "source": []
  }
 ],
 "metadata": {
  "kernelspec": {
   "display_name": "Python 3",
   "language": "python",
   "name": "python3"
  },
  "language_info": {
   "codemirror_mode": {
    "name": "ipython",
    "version": 3
   },
   "file_extension": ".py",
   "mimetype": "text/x-python",
   "name": "python",
   "nbconvert_exporter": "python",
   "pygments_lexer": "ipython3",
   "version": "3.7.6"
  }
 },
 "nbformat": 4,
 "nbformat_minor": 4
}
